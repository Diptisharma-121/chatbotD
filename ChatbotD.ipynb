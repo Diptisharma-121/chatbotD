{
 "cells": [
  {
   "cell_type": "code",
   "execution_count": 1,
   "id": "6344e166-31ae-42a6-a328-5270af195143",
   "metadata": {},
   "outputs": [
    {
     "name": "stdout",
     "output_type": "stream",
     "text": [
      "Libraries loaded successfully!\n"
     ]
    }
   ],
   "source": [
    "from IPython.display import display, HTML\n",
    "from sklearn.feature_extraction.text import TfidfVectorizer\n",
    "from sklearn.metrics.pairwise import cosine_similarity\n",
    "import numpy as np\n",
    "\n",
    "print(\"Libraries loaded successfully!\")\n"
   ]
  },
  {
   "cell_type": "code",
   "execution_count": 2,
   "id": "5ed46947-d51e-46da-ab3f-7e39e9dd027b",
   "metadata": {},
   "outputs": [],
   "source": [
    "flower_db = [\n",
    "    {\"name\": \"rose\", \"emoji\": \"🌹\", \n",
    "     \"description\": \"Symbol of love, beauty, and passion.\", \n",
    "     \"link\": \"https://en.wikipedia.org/wiki/Rose\",\n",
    "     \"image_url\": \"https://upload.wikimedia.org/wikipedia/commons/thumb/b/bf/Rose_Red_Rock.jpg/320px-Rose_Red_Rock.jpg\"},\n",
    "    \n",
    "    {\"name\": \"lily\", \"emoji\": \"🌸\", \n",
    "     \"description\": \"Elegant and fragrant flowers, symbolize purity.\", \n",
    "     \"link\": \"https://en.wikipedia.org/wiki/Lilium\",\n",
    "     \"image_url\": \"https://upload.wikimedia.org/wikipedia/commons/thumb/e/e0/Lilium_Lily.jpg/320px-Lilium_Lily.jpg\"},\n",
    "    \n",
    "    {\"name\": \"sunflower\", \"emoji\": \"🌻\", \n",
    "     \"description\": \"Represents happiness and positivity.\", \n",
    "     \"link\": \"https://en.wikipedia.org/wiki/Sunflower\",\n",
    "     \"image_url\": \"https://upload.wikimedia.org/wikipedia/commons/thumb/4/40/Sunflower_sky_backdrop.jpg/320px-Sunflower_sky_backdrop.jpg\"},\n",
    "    \n",
    "    {\"name\": \"daisy\", \"emoji\": \"🌼\", \n",
    "     \"description\": \"Simple and cheerful flowers, symbolizes innocence and purity.\", \n",
    "     \"link\": \"https://en.wikipedia.org/wiki/Daisy\",\n",
    "     \"image_url\": \"https://upload.wikimedia.org/wikipedia/commons/thumb/3/37/Bellis_perennis_white.JPG/320px-Bellis_perennis_white.JPG\"},\n",
    "    \n",
    "    {\"name\": \"tulip\", \"emoji\": \"🌷\", \n",
    "     \"description\": \"Spring-blooming flowers, represents love and elegance.\", \n",
    "     \"link\": \"https://en.wikipedia.org/wiki/Tulip\",\n",
    "     \"image_url\": \"https://upload.wikimedia.org/wikipedia/commons/thumb/4/40/Tulip_-_floriade_canberra.jpg/320px-Tulip_-_floriade_canberra.jpg\"},\n",
    "    \n",
    "    {\"name\": \"orchid\", \"emoji\": \"🌸\", \n",
    "     \"description\": \"Exotic and rare flowers, symbolize luxury and strength.\", \n",
    "     \"link\": \"https://en.wikipedia.org/wiki/Orchidaceae\",\n",
    "     \"image_url\": \"https://upload.wikimedia.org/wikipedia/commons/thumb/1/16/Orchidaceae_-_Cattleya.jpg/320px-Orchidaceae_-_Cattleya.jpg\"}\n",
    "]\n"
   ]
  },
  {
   "cell_type": "code",
   "execution_count": 3,
   "id": "b95dc07c-5471-4981-bf45-3d351c21ba26",
   "metadata": {},
   "outputs": [],
   "source": [
    "def show_flower(flower):\n",
    "    print(f\"Bot: {flower['name'].capitalize()} {flower['emoji']}\")\n",
    "    print(f\"Bot: {flower['description']}\")\n",
    "    display(HTML(f\"\"\"\n",
    "        <a href=\"{flower['link']}\" target=\"_blank\">Read more about {flower['name'].capitalize()}</a><br>\n",
    "        <img src=\"{flower['image_url']}\" width=\"250px\">\n",
    "    \"\"\"))\n"
   ]
  },
  {
   "cell_type": "code",
   "execution_count": 4,
   "id": "da44ffce-e098-4175-a0f5-c144d7386ce6",
   "metadata": {},
   "outputs": [],
   "source": [
    "def find_flower(user_input):\n",
    "    \n",
    "    general_flower_queries = [\"flower\", \"flowers\", \"tell me about flowers\", \"i want to know about flowers\"]\n",
    "    if any(q in user_input for q in general_flower_queries):\n",
    "        return \"ask_flower_name\"\n",
    "    \n",
    "   \n",
    "    names = [f['name'] for f in flower_db]\n",
    "    tfidf = TfidfVectorizer().fit_transform(names + [user_input])\n",
    "    similarity = cosine_similarity(tfidf[-1], tfidf[:-1])\n",
    "    best_match_index = np.argmax(similarity)\n",
    "    \n",
    "    if np.max(similarity) > 0.3:\n",
    "        return flower_db[best_match_index]\n",
    "    else:\n",
    "        return None\n"
   ]
  },
  {
   "cell_type": "code",
   "execution_count": 5,
   "id": "ca3d2d9e-c0ea-4dab-901d-fa065fb57fe4",
   "metadata": {},
   "outputs": [],
   "source": [
    "user_name = \"\"\n",
    "\n",
    "def chatbot_response(user_input):\n",
    "    global user_name\n",
    "    user_input_lower = user_input.lower()\n",
    "    \n",
    "   \n",
    "    if any(g in user_input_lower for g in [\"hi\", \"hello\", \"hlo\"]):\n",
    "        print(\"Bot: Hello! 😄\")\n",
    "        if not user_name:\n",
    "            user_name = input(\"Bot: What's your name? \")\n",
    "            print(f\"Bot: Nice to meet you, {user_name}! I will remember that.\")\n",
    "        return\n",
    "\n",
    "    elif \"good morning\" in user_input_lower:\n",
    "        print(\"Bot: Good morning! 😄\")\n",
    "        if not user_name:\n",
    "            user_name = input(\"Bot: What's your name? \")\n",
    "            print(f\"Bot: Nice to meet you, {user_name}! I will remember that.\")\n",
    "        return\n",
    "\n",
    "    elif \"good afternoon\" in user_input_lower:\n",
    "        print(\"Bot: Good afternoon! 😄\")\n",
    "        if not user_name:\n",
    "            user_name = input(\"Bot: What's your name? \")\n",
    "            print(f\"Bot: Nice to meet you, {user_name}! I will remember that.\")\n",
    "        return\n",
    "\n",
    "    elif \"good evening\" in user_input_lower:\n",
    "        print(\"Bot: Good evening! 😄\")\n",
    "        if not user_name:\n",
    "            user_name = input(\"Bot: What's your name? \")\n",
    "            print(f\"Bot: Nice to meet you, {user_name}! I will remember that.\")\n",
    "        return\n",
    "    \n",
    "    \n",
    "    if any(k in user_input_lower for k in [\"creator\", \"who made\", \"who created\", \"dipti\"]):\n",
    "        print(\"Bot: I was created by Dipti Sharma.\")\n",
    "        display(HTML('<a href=\"https://www.linkedin.com/in/deepti-sharma-1b0a25316\" target=\"_blank\">Dipti Sharma LinkedIn</a>'))\n",
    "        return\n",
    "    \n",
    "   \n",
    "    flower = find_flower(user_input_lower)\n",
    "    \n",
    "    if flower == \"ask_flower_name\":\n",
    "        print(\"Bot: Which flower would you like to know about? 🌸 I can help you!\")\n",
    "        return\n",
    "    elif flower:\n",
    "        print(f\"Bot: Did you mean '{flower['name'].capitalize()}'? 🌸\")\n",
    "        show_flower(flower)\n",
    "        return\n",
    "    \n",
    "   \n",
    "    print(\"Bot: I’m not sure about that. Try asking about another flower like rose, lily, daisy, tulip, etc. 🌼\")\n"
   ]
  },
  {
   "cell_type": "code",
   "execution_count": 6,
   "id": "ad5e422c-d71d-4b5b-99c3-c7881559be33",
   "metadata": {},
   "outputs": [
    {
     "name": "stdout",
     "output_type": "stream",
     "text": [
      "Bot: Dipti's Flower Assistant is online! Type 'exit' to quit.\n"
     ]
    },
    {
     "name": "stdout",
     "output_type": "stream",
     "text": [
      "You:  hi\n"
     ]
    },
    {
     "name": "stdout",
     "output_type": "stream",
     "text": [
      "Bot: Hello! 😄\n"
     ]
    },
    {
     "name": "stdout",
     "output_type": "stream",
     "text": [
      "Bot: What's your name?  pooja\n"
     ]
    },
    {
     "name": "stdout",
     "output_type": "stream",
     "text": [
      "Bot: Nice to meet you, pooja! I will remember that.\n"
     ]
    },
    {
     "name": "stdout",
     "output_type": "stream",
     "text": [
      "You:  i want to know about flower\n"
     ]
    },
    {
     "name": "stdout",
     "output_type": "stream",
     "text": [
      "Bot: Which flower would you like to know about? 🌸 I can help you!\n"
     ]
    },
    {
     "name": "stdout",
     "output_type": "stream",
     "text": [
      "You:  Rose\n"
     ]
    },
    {
     "name": "stdout",
     "output_type": "stream",
     "text": [
      "Bot: Did you mean 'Rose'? 🌸\n",
      "Bot: Rose 🌹\n",
      "Bot: Symbol of love, beauty, and passion.\n"
     ]
    },
    {
     "data": {
      "text/html": [
       "\n",
       "        <a href=\"https://en.wikipedia.org/wiki/Rose\" target=\"_blank\">Read more about Rose</a><br>\n",
       "        <img src=\"https://upload.wikimedia.org/wikipedia/commons/thumb/b/bf/Rose_Red_Rock.jpg/320px-Rose_Red_Rock.jpg\" width=\"250px\">\n",
       "    "
      ],
      "text/plain": [
       "<IPython.core.display.HTML object>"
      ]
     },
     "metadata": {},
     "output_type": "display_data"
    },
    {
     "name": "stdout",
     "output_type": "stream",
     "text": [
      "You:  who made you\n"
     ]
    },
    {
     "name": "stdout",
     "output_type": "stream",
     "text": [
      "Bot: I was created by Dipti Sharma.\n"
     ]
    },
    {
     "data": {
      "text/html": [
       "<a href=\"https://www.linkedin.com/in/deepti-sharma-1b0a25316\" target=\"_blank\">Dipti Sharma LinkedIn</a>"
      ],
      "text/plain": [
       "<IPython.core.display.HTML object>"
      ]
     },
     "metadata": {},
     "output_type": "display_data"
    },
    {
     "name": "stdout",
     "output_type": "stream",
     "text": [
      "You:  tell me about dipti\n"
     ]
    },
    {
     "name": "stdout",
     "output_type": "stream",
     "text": [
      "Bot: I was created by Dipti Sharma.\n"
     ]
    },
    {
     "data": {
      "text/html": [
       "<a href=\"https://www.linkedin.com/in/deepti-sharma-1b0a25316\" target=\"_blank\">Dipti Sharma LinkedIn</a>"
      ],
      "text/plain": [
       "<IPython.core.display.HTML object>"
      ]
     },
     "metadata": {},
     "output_type": "display_data"
    },
    {
     "name": "stdout",
     "output_type": "stream",
     "text": [
      "You:  bye thank you\n"
     ]
    },
    {
     "name": "stdout",
     "output_type": "stream",
     "text": [
      "Bot: I’m not sure about that. Try asking about another flower like rose, lily, daisy, tulip, etc. 🌼\n"
     ]
    },
    {
     "name": "stdout",
     "output_type": "stream",
     "text": [
      "You:  exit\n"
     ]
    },
    {
     "name": "stdout",
     "output_type": "stream",
     "text": [
      "Bot: Bye! Have a lovely day 🌸\n"
     ]
    }
   ],
   "source": [
    "print(\"Bot: Dipti's Flower Assistant is online! Type 'exit' to quit.\")\n",
    "while True:\n",
    "    user_input = input(\"You: \")\n",
    "    if user_input.lower() == \"exit\":\n",
    "        print(\"Bot: Bye! Have a lovely day 🌸\")\n",
    "        break\n",
    "    chatbot_response(user_input)\n"
   ]
  },
  {
   "cell_type": "code",
   "execution_count": null,
   "id": "d8201414-32f9-4d42-bd7b-940ea2f2bdb1",
   "metadata": {},
   "outputs": [],
   "source": []
  }
 ],
 "metadata": {
  "kernelspec": {
   "display_name": "Python 3 (ipykernel)",
   "language": "python",
   "name": "python3"
  },
  "language_info": {
   "codemirror_mode": {
    "name": "ipython",
    "version": 3
   },
   "file_extension": ".py",
   "mimetype": "text/x-python",
   "name": "python",
   "nbconvert_exporter": "python",
   "pygments_lexer": "ipython3",
   "version": "3.12.7"
  }
 },
 "nbformat": 4,
 "nbformat_minor": 5
}
